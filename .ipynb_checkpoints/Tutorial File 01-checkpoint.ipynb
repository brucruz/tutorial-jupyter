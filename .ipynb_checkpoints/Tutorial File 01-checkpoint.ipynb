{
 "cells": [
  {
   "cell_type": "markdown",
   "id": "d7c90373",
   "metadata": {},
   "source": [
    "1. Introduction\n",
    "2. Object handling\n",
    "3. Working with libraries\n",
    "4. Exploring directories\n",
    "5. Opening and Handling Data\n",
    "6. Lists vs Arrays"
   ]
  },
  {
   "cell_type": "markdown",
   "id": "e24e6472",
   "metadata": {},
   "source": [
    "# 1. Introduction\n",
    "\n",
    "<b>This is our first code with Python</b>"
   ]
  },
  {
   "cell_type": "code",
   "execution_count": 34,
   "id": "12f06bbc",
   "metadata": {},
   "outputs": [
    {
     "data": {
      "text/plain": [
       "2"
      ]
     },
     "execution_count": 34,
     "metadata": {},
     "output_type": "execute_result"
    }
   ],
   "source": [
    "1+1"
   ]
  },
  {
   "cell_type": "markdown",
   "id": "8aa3ec39",
   "metadata": {},
   "source": [
    "# 2. Object Handling"
   ]
  },
  {
   "cell_type": "code",
   "execution_count": 24,
   "id": "97012ae6",
   "metadata": {},
   "outputs": [],
   "source": [
    "a = 1\n",
    "b = 2\n",
    "c = 3"
   ]
  },
  {
   "cell_type": "code",
   "execution_count": 7,
   "id": "01c6bfed",
   "metadata": {},
   "outputs": [
    {
     "data": {
      "text/plain": [
       "6"
      ]
     },
     "execution_count": 7,
     "metadata": {},
     "output_type": "execute_result"
    }
   ],
   "source": [
    "a + b + c"
   ]
  },
  {
   "cell_type": "code",
   "execution_count": 8,
   "id": "1b637eb2",
   "metadata": {},
   "outputs": [
    {
     "data": {
      "text/plain": [
       "6"
      ]
     },
     "execution_count": 8,
     "metadata": {},
     "output_type": "execute_result"
    }
   ],
   "source": [
    "a * b * c"
   ]
  },
  {
   "cell_type": "code",
   "execution_count": 12,
   "id": "b9fe109a",
   "metadata": {},
   "outputs": [],
   "source": [
    "d = 1.5\n",
    "e = 2.8\n",
    "f = 3.14"
   ]
  },
  {
   "cell_type": "code",
   "execution_count": 13,
   "id": "1812446c",
   "metadata": {},
   "outputs": [
    {
     "data": {
      "text/plain": [
       "7.4399999999999995"
      ]
     },
     "execution_count": 13,
     "metadata": {},
     "output_type": "execute_result"
    }
   ],
   "source": [
    "d + e + f"
   ]
  },
  {
   "cell_type": "code",
   "execution_count": 14,
   "id": "ab0fc0f9",
   "metadata": {},
   "outputs": [
    {
     "data": {
      "text/plain": [
       "13.187999999999999"
      ]
     },
     "execution_count": 14,
     "metadata": {},
     "output_type": "execute_result"
    }
   ],
   "source": [
    "d * e * f"
   ]
  },
  {
   "cell_type": "code",
   "execution_count": 35,
   "id": "90c9afb0",
   "metadata": {},
   "outputs": [],
   "source": [
    "g = \"My\"\n",
    "h = \" name is \"\n",
    "i = \"Bruno\""
   ]
  },
  {
   "cell_type": "code",
   "execution_count": 36,
   "id": "45122cd8",
   "metadata": {},
   "outputs": [],
   "source": [
    "sentence = g + h + i"
   ]
  },
  {
   "cell_type": "code",
   "execution_count": 37,
   "id": "00311638",
   "metadata": {},
   "outputs": [
    {
     "data": {
      "text/plain": [
       "'n'"
      ]
     },
     "execution_count": 37,
     "metadata": {},
     "output_type": "execute_result"
    }
   ],
   "source": [
    "sentence[3]"
   ]
  },
  {
   "cell_type": "markdown",
   "id": "28d38fc9",
   "metadata": {},
   "source": [
    "### Python indexing starts at 0 not 1"
   ]
  },
  {
   "cell_type": "code",
   "execution_count": 38,
   "id": "952676f9",
   "metadata": {},
   "outputs": [
    {
     "data": {
      "text/plain": [
       "'M'"
      ]
     },
     "execution_count": 38,
     "metadata": {},
     "output_type": "execute_result"
    }
   ],
   "source": [
    "sentence[0]"
   ]
  },
  {
   "cell_type": "code",
   "execution_count": 20,
   "id": "2a012683",
   "metadata": {},
   "outputs": [
    {
     "data": {
      "text/plain": [
       "str"
      ]
     },
     "execution_count": 20,
     "metadata": {},
     "output_type": "execute_result"
    }
   ],
   "source": [
    "type(g)"
   ]
  },
  {
   "cell_type": "code",
   "execution_count": 27,
   "id": "9a5f7843",
   "metadata": {},
   "outputs": [
    {
     "data": {
      "text/plain": [
       "int"
      ]
     },
     "execution_count": 27,
     "metadata": {},
     "output_type": "execute_result"
    }
   ],
   "source": [
    "type(a)"
   ]
  },
  {
   "cell_type": "code",
   "execution_count": 25,
   "id": "d8d6fa8c",
   "metadata": {},
   "outputs": [
    {
     "data": {
      "text/plain": [
       "int"
      ]
     },
     "execution_count": 25,
     "metadata": {},
     "output_type": "execute_result"
    }
   ],
   "source": [
    "type(c)"
   ]
  },
  {
   "cell_type": "code",
   "execution_count": 26,
   "id": "4bcdb028",
   "metadata": {},
   "outputs": [
    {
     "data": {
      "text/plain": [
       "float"
      ]
     },
     "execution_count": 26,
     "metadata": {},
     "output_type": "execute_result"
    }
   ],
   "source": [
    "type(d)"
   ]
  },
  {
   "cell_type": "markdown",
   "id": "c88dbf3f",
   "metadata": {},
   "source": [
    "# 3. Working with libraries"
   ]
  },
  {
   "cell_type": "markdown",
   "id": "0cb96cc2",
   "metadata": {},
   "source": [
    "Libraries: numpy + pandas"
   ]
  },
  {
   "cell_type": "code",
   "execution_count": 29,
   "id": "16e56ad4",
   "metadata": {},
   "outputs": [],
   "source": [
    "import pandas as pd"
   ]
  },
  {
   "cell_type": "code",
   "execution_count": 30,
   "id": "5d744ec9",
   "metadata": {},
   "outputs": [],
   "source": [
    "import numpy as np"
   ]
  },
  {
   "cell_type": "code",
   "execution_count": 31,
   "id": "c84ef016",
   "metadata": {},
   "outputs": [],
   "source": [
    "import sys"
   ]
  },
  {
   "cell_type": "code",
   "execution_count": 32,
   "id": "8b523b69",
   "metadata": {},
   "outputs": [
    {
     "name": "stdout",
     "output_type": "stream",
     "text": [
      "\u001b[33mWARNING: The directory '/Users/brunocruz/Library/Caches/pip' or its parent directory is not owned or is not writable by the current user. The cache has been disabled. Check the permissions and owner of that directory. If executing pip with sudo, you should use sudo's -H flag.\u001b[0m\n",
      "Requirement already satisfied: quandl in /Users/brunocruz/opt/anaconda3/lib/python3.9/site-packages (3.7.0)\n",
      "Requirement already satisfied: numpy>=1.8 in /Users/brunocruz/opt/anaconda3/lib/python3.9/site-packages (from quandl) (1.20.3)\n",
      "Requirement already satisfied: inflection>=0.3.1 in /Users/brunocruz/opt/anaconda3/lib/python3.9/site-packages (from quandl) (0.5.1)\n",
      "Requirement already satisfied: python-dateutil in /Users/brunocruz/opt/anaconda3/lib/python3.9/site-packages (from quandl) (2.8.2)\n",
      "Requirement already satisfied: six in /Users/brunocruz/opt/anaconda3/lib/python3.9/site-packages (from quandl) (1.16.0)\n",
      "Requirement already satisfied: pandas>=0.14 in /Users/brunocruz/opt/anaconda3/lib/python3.9/site-packages (from quandl) (1.3.4)\n",
      "Requirement already satisfied: more-itertools in /Users/brunocruz/opt/anaconda3/lib/python3.9/site-packages (from quandl) (8.10.0)\n",
      "Requirement already satisfied: requests>=2.7.0 in /Users/brunocruz/opt/anaconda3/lib/python3.9/site-packages (from quandl) (2.26.0)\n",
      "Requirement already satisfied: pytz>=2017.3 in /Users/brunocruz/opt/anaconda3/lib/python3.9/site-packages (from pandas>=0.14->quandl) (2021.3)\n",
      "Requirement already satisfied: urllib3<1.27,>=1.21.1 in /Users/brunocruz/opt/anaconda3/lib/python3.9/site-packages (from requests>=2.7.0->quandl) (1.26.7)\n",
      "Requirement already satisfied: charset-normalizer~=2.0.0 in /Users/brunocruz/opt/anaconda3/lib/python3.9/site-packages (from requests>=2.7.0->quandl) (2.0.4)\n",
      "Requirement already satisfied: idna<4,>=2.5 in /Users/brunocruz/opt/anaconda3/lib/python3.9/site-packages (from requests>=2.7.0->quandl) (3.2)\n",
      "Requirement already satisfied: certifi>=2017.4.17 in /Users/brunocruz/opt/anaconda3/lib/python3.9/site-packages (from requests>=2.7.0->quandl) (2021.10.8)\n"
     ]
    }
   ],
   "source": [
    "!{sys.executable} -m pip install quandl"
   ]
  },
  {
   "cell_type": "code",
   "execution_count": 33,
   "id": "0d1c7a84",
   "metadata": {},
   "outputs": [
    {
     "name": "stdout",
     "output_type": "stream",
     "text": [
      "\u001b[33mWARNING: The directory '/Users/brunocruz/Library/Caches/pip' or its parent directory is not owned or is not writable by the current user. The cache has been disabled. Check the permissions and owner of that directory. If executing pip with sudo, you should use sudo's -H flag.\u001b[0m\n",
      "Collecting pandas_datareader\n",
      "  Downloading pandas_datareader-0.10.0-py3-none-any.whl (109 kB)\n",
      "\u001b[K     |████████████████████████████████| 109 kB 11.2 MB/s eta 0:00:01\n",
      "\u001b[?25hRequirement already satisfied: pandas>=0.23 in /Users/brunocruz/opt/anaconda3/lib/python3.9/site-packages (from pandas_datareader) (1.3.4)\n",
      "Requirement already satisfied: lxml in /Users/brunocruz/opt/anaconda3/lib/python3.9/site-packages (from pandas_datareader) (4.6.3)\n",
      "Requirement already satisfied: requests>=2.19.0 in /Users/brunocruz/opt/anaconda3/lib/python3.9/site-packages (from pandas_datareader) (2.26.0)\n",
      "Requirement already satisfied: python-dateutil>=2.7.3 in /Users/brunocruz/opt/anaconda3/lib/python3.9/site-packages (from pandas>=0.23->pandas_datareader) (2.8.2)\n",
      "Requirement already satisfied: pytz>=2017.3 in /Users/brunocruz/opt/anaconda3/lib/python3.9/site-packages (from pandas>=0.23->pandas_datareader) (2021.3)\n",
      "Requirement already satisfied: numpy>=1.17.3 in /Users/brunocruz/opt/anaconda3/lib/python3.9/site-packages (from pandas>=0.23->pandas_datareader) (1.20.3)\n",
      "Requirement already satisfied: six>=1.5 in /Users/brunocruz/opt/anaconda3/lib/python3.9/site-packages (from python-dateutil>=2.7.3->pandas>=0.23->pandas_datareader) (1.16.0)\n",
      "Requirement already satisfied: charset-normalizer~=2.0.0 in /Users/brunocruz/opt/anaconda3/lib/python3.9/site-packages (from requests>=2.19.0->pandas_datareader) (2.0.4)\n",
      "Requirement already satisfied: certifi>=2017.4.17 in /Users/brunocruz/opt/anaconda3/lib/python3.9/site-packages (from requests>=2.19.0->pandas_datareader) (2021.10.8)\n",
      "Requirement already satisfied: idna<4,>=2.5 in /Users/brunocruz/opt/anaconda3/lib/python3.9/site-packages (from requests>=2.19.0->pandas_datareader) (3.2)\n",
      "Requirement already satisfied: urllib3<1.27,>=1.21.1 in /Users/brunocruz/opt/anaconda3/lib/python3.9/site-packages (from requests>=2.19.0->pandas_datareader) (1.26.7)\n",
      "Installing collected packages: pandas-datareader\n",
      "Successfully installed pandas-datareader-0.10.0\n"
     ]
    }
   ],
   "source": [
    "!{sys.executable} -m pip install pandas_datareader"
   ]
  },
  {
   "cell_type": "markdown",
   "id": "5da6343b",
   "metadata": {},
   "source": [
    "# 4. Exploring directories"
   ]
  },
  {
   "cell_type": "code",
   "execution_count": 40,
   "id": "2ad7cc4e",
   "metadata": {},
   "outputs": [],
   "source": [
    "import os"
   ]
  },
  {
   "cell_type": "code",
   "execution_count": 43,
   "id": "dc750930",
   "metadata": {},
   "outputs": [
    {
     "data": {
      "text/plain": [
       "'/Users/brunocruz/code/brucruz/tutorial-jupyter'"
      ]
     },
     "execution_count": 43,
     "metadata": {},
     "output_type": "execute_result"
    }
   ],
   "source": [
    "os.getcwd()"
   ]
  },
  {
   "cell_type": "code",
   "execution_count": 44,
   "id": "2751e16a",
   "metadata": {},
   "outputs": [],
   "source": [
    "os.chdir('/Users/brunocruz/code/brucruz/tutorial-jupyter/files')"
   ]
  },
  {
   "cell_type": "code",
   "execution_count": 45,
   "id": "4c312f93",
   "metadata": {},
   "outputs": [
    {
     "data": {
      "text/plain": [
       "'/Users/brunocruz/code/brucruz/tutorial-jupyter/files'"
      ]
     },
     "execution_count": 45,
     "metadata": {},
     "output_type": "execute_result"
    }
   ],
   "source": [
    "os.getcwd()"
   ]
  },
  {
   "cell_type": "markdown",
   "id": "bb02eb19",
   "metadata": {},
   "source": [
    "# 5. Opening and Handling Data"
   ]
  },
  {
   "cell_type": "code",
   "execution_count": 49,
   "id": "c10ef985",
   "metadata": {},
   "outputs": [],
   "source": [
    "abev = pd.read_csv('upload-template-statuschange.csv')"
   ]
  },
  {
   "cell_type": "code",
   "execution_count": 50,
   "id": "5c16b462",
   "metadata": {},
   "outputs": [
    {
     "data": {
      "text/html": [
       "<div>\n",
       "<style scoped>\n",
       "    .dataframe tbody tr th:only-of-type {\n",
       "        vertical-align: middle;\n",
       "    }\n",
       "\n",
       "    .dataframe tbody tr th {\n",
       "        vertical-align: top;\n",
       "    }\n",
       "\n",
       "    .dataframe thead th {\n",
       "        text-align: right;\n",
       "    }\n",
       "</style>\n",
       "<table border=\"1\" class=\"dataframe\">\n",
       "  <thead>\n",
       "    <tr style=\"text-align: right;\">\n",
       "      <th></th>\n",
       "      <th>sku</th>\n",
       "      <th>status</th>\n",
       "    </tr>\n",
       "  </thead>\n",
       "  <tbody>\n",
       "    <tr>\n",
       "      <th>0</th>\n",
       "      <td>xxxxxxxxxxxx-OAG</td>\n",
       "      <td>Active</td>\n",
       "    </tr>\n",
       "    <tr>\n",
       "      <th>1</th>\n",
       "      <td>xxxxxxxxxxxx-OAG</td>\n",
       "      <td>Inactive</td>\n",
       "    </tr>\n",
       "    <tr>\n",
       "      <th>2</th>\n",
       "      <td>xxxxxxxxxxxx-OAG</td>\n",
       "      <td>Archived</td>\n",
       "    </tr>\n",
       "    <tr>\n",
       "      <th>3</th>\n",
       "      <td>xxxxxxxxxxxx-OAG</td>\n",
       "      <td>Delete</td>\n",
       "    </tr>\n",
       "  </tbody>\n",
       "</table>\n",
       "</div>"
      ],
      "text/plain": [
       "                sku    status\n",
       "0  xxxxxxxxxxxx-OAG    Active\n",
       "1  xxxxxxxxxxxx-OAG  Inactive\n",
       "2  xxxxxxxxxxxx-OAG  Archived\n",
       "3  xxxxxxxxxxxx-OAG    Delete"
      ]
     },
     "execution_count": 50,
     "metadata": {},
     "output_type": "execute_result"
    }
   ],
   "source": [
    "abev"
   ]
  },
  {
   "cell_type": "code",
   "execution_count": 53,
   "id": "4a150f17",
   "metadata": {},
   "outputs": [
    {
     "data": {
      "text/html": [
       "<div>\n",
       "<style scoped>\n",
       "    .dataframe tbody tr th:only-of-type {\n",
       "        vertical-align: middle;\n",
       "    }\n",
       "\n",
       "    .dataframe tbody tr th {\n",
       "        vertical-align: top;\n",
       "    }\n",
       "\n",
       "    .dataframe thead th {\n",
       "        text-align: right;\n",
       "    }\n",
       "</style>\n",
       "<table border=\"1\" class=\"dataframe\">\n",
       "  <thead>\n",
       "    <tr style=\"text-align: right;\">\n",
       "      <th></th>\n",
       "      <th>sku</th>\n",
       "      <th>status</th>\n",
       "    </tr>\n",
       "  </thead>\n",
       "  <tbody>\n",
       "    <tr>\n",
       "      <th>0</th>\n",
       "      <td>xxxxxxxxxxxx-OAG</td>\n",
       "      <td>Active</td>\n",
       "    </tr>\n",
       "    <tr>\n",
       "      <th>1</th>\n",
       "      <td>xxxxxxxxxxxx-OAG</td>\n",
       "      <td>Inactive</td>\n",
       "    </tr>\n",
       "  </tbody>\n",
       "</table>\n",
       "</div>"
      ],
      "text/plain": [
       "                sku    status\n",
       "0  xxxxxxxxxxxx-OAG    Active\n",
       "1  xxxxxxxxxxxx-OAG  Inactive"
      ]
     },
     "execution_count": 53,
     "metadata": {},
     "output_type": "execute_result"
    }
   ],
   "source": [
    "abev.head(2)"
   ]
  },
  {
   "cell_type": "code",
   "execution_count": 54,
   "id": "6bf8b575",
   "metadata": {},
   "outputs": [
    {
     "data": {
      "text/plain": [
       "sku       xxxxxxxxxxxx-OAG\n",
       "status            Inactive\n",
       "dtype: object"
      ]
     },
     "execution_count": 54,
     "metadata": {},
     "output_type": "execute_result"
    }
   ],
   "source": [
    "abev.max()"
   ]
  },
  {
   "cell_type": "code",
   "execution_count": 55,
   "id": "a9a73319",
   "metadata": {},
   "outputs": [
    {
     "data": {
      "text/plain": [
       "'Active'"
      ]
     },
     "execution_count": 55,
     "metadata": {},
     "output_type": "execute_result"
    }
   ],
   "source": [
    "abev['status'].min()"
   ]
  },
  {
   "cell_type": "code",
   "execution_count": 60,
   "id": "c6e2d0f3",
   "metadata": {},
   "outputs": [
    {
     "data": {
      "text/plain": [
       "'Delete'"
      ]
     },
     "execution_count": 60,
     "metadata": {},
     "output_type": "execute_result"
    }
   ],
   "source": [
    "abev.status[3]"
   ]
  },
  {
   "cell_type": "markdown",
   "id": "d0a618e0",
   "metadata": {},
   "source": [
    "# 6. Lists vs Arrays"
   ]
  },
  {
   "cell_type": "code",
   "execution_count": 61,
   "id": "0f67b906",
   "metadata": {},
   "outputs": [],
   "source": [
    "list = ['Bruno', 'Victor', 'Mary', 1, 2, 3, 0.414, 14321.2]"
   ]
  },
  {
   "cell_type": "code",
   "execution_count": 62,
   "id": "502c13f9",
   "metadata": {},
   "outputs": [
    {
     "data": {
      "text/plain": [
       "['Bruno', 'Victor', 'Mary', 1, 2, 3, 0.414, 14321.2]"
      ]
     },
     "execution_count": 62,
     "metadata": {},
     "output_type": "execute_result"
    }
   ],
   "source": [
    "list"
   ]
  },
  {
   "cell_type": "code",
   "execution_count": 64,
   "id": "5d9a8d6a",
   "metadata": {},
   "outputs": [
    {
     "data": {
      "text/plain": [
       "'Victor'"
      ]
     },
     "execution_count": 64,
     "metadata": {},
     "output_type": "execute_result"
    }
   ],
   "source": [
    "list[1]"
   ]
  },
  {
   "cell_type": "code",
   "execution_count": 68,
   "id": "33cdf8c1",
   "metadata": {},
   "outputs": [],
   "source": [
    "list02 = [1, 2, 3]"
   ]
  },
  {
   "cell_type": "code",
   "execution_count": 69,
   "id": "1ed10c73",
   "metadata": {},
   "outputs": [
    {
     "data": {
      "text/plain": [
       "['Bruno', 'Victor', 'Mary', 1, 2, 3, 0.414, 14321.2, 1, 2, 3]"
      ]
     },
     "execution_count": 69,
     "metadata": {},
     "output_type": "execute_result"
    }
   ],
   "source": [
    "list + list02"
   ]
  },
  {
   "cell_type": "code",
   "execution_count": 70,
   "id": "300522f3",
   "metadata": {},
   "outputs": [
    {
     "data": {
      "text/plain": [
       "list"
      ]
     },
     "execution_count": 70,
     "metadata": {},
     "output_type": "execute_result"
    }
   ],
   "source": [
    "type(list)"
   ]
  },
  {
   "cell_type": "code",
   "execution_count": 71,
   "id": "80ee465d",
   "metadata": {},
   "outputs": [
    {
     "data": {
      "text/plain": [
       "8"
      ]
     },
     "execution_count": 71,
     "metadata": {},
     "output_type": "execute_result"
    }
   ],
   "source": [
    "len(list)"
   ]
  },
  {
   "cell_type": "code",
   "execution_count": 74,
   "id": "dea821db",
   "metadata": {},
   "outputs": [],
   "source": [
    "array01 = np.array([1, 2, 3])"
   ]
  },
  {
   "cell_type": "code",
   "execution_count": 75,
   "id": "05f639da",
   "metadata": {},
   "outputs": [
    {
     "data": {
      "text/plain": [
       "array([1, 2, 3])"
      ]
     },
     "execution_count": 75,
     "metadata": {},
     "output_type": "execute_result"
    }
   ],
   "source": [
    "array01"
   ]
  },
  {
   "cell_type": "code",
   "execution_count": 77,
   "id": "d23145c7",
   "metadata": {},
   "outputs": [],
   "source": [
    "array02 = np.array(list)"
   ]
  },
  {
   "cell_type": "code",
   "execution_count": 78,
   "id": "c4b58c5b",
   "metadata": {},
   "outputs": [
    {
     "data": {
      "text/plain": [
       "array(['Bruno', 'Victor', 'Mary', '1', '2', '3', '0.414', '14321.2'],\n",
       "      dtype='<U32')"
      ]
     },
     "execution_count": 78,
     "metadata": {},
     "output_type": "execute_result"
    }
   ],
   "source": [
    "array02"
   ]
  },
  {
   "cell_type": "code",
   "execution_count": 79,
   "id": "58ed982d",
   "metadata": {},
   "outputs": [],
   "source": [
    "array03 = np.array([7,8,9])"
   ]
  },
  {
   "cell_type": "code",
   "execution_count": 80,
   "id": "1be7367b",
   "metadata": {},
   "outputs": [
    {
     "data": {
      "text/plain": [
       "array([ 8, 10, 12])"
      ]
     },
     "execution_count": 80,
     "metadata": {},
     "output_type": "execute_result"
    }
   ],
   "source": [
    "array01 + array03"
   ]
  },
  {
   "cell_type": "code",
   "execution_count": null,
   "id": "ce509690",
   "metadata": {},
   "outputs": [],
   "source": []
  }
 ],
 "metadata": {
  "kernelspec": {
   "display_name": "Python 3 (ipykernel)",
   "language": "python",
   "name": "python3"
  },
  "language_info": {
   "codemirror_mode": {
    "name": "ipython",
    "version": 3
   },
   "file_extension": ".py",
   "mimetype": "text/x-python",
   "name": "python",
   "nbconvert_exporter": "python",
   "pygments_lexer": "ipython3",
   "version": "3.9.7"
  }
 },
 "nbformat": 4,
 "nbformat_minor": 5
}
