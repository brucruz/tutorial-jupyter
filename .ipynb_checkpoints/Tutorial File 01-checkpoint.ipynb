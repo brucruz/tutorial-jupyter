{
 "cells": [
  {
   "cell_type": "markdown",
   "id": "e257a675",
   "metadata": {},
   "source": [
    "1. Introduction\n",
    "2. Object handling\n",
    "3. Working with libraries\n",
    "4. Exploring directories"
   ]
  },
  {
   "cell_type": "markdown",
   "id": "481bf264",
   "metadata": {},
   "source": [
    "# 1. Introduction\n",
    "\n",
    "<b>This is our first code with Python</b>"
   ]
  },
  {
   "cell_type": "code",
   "execution_count": 34,
   "id": "322c5143",
   "metadata": {},
   "outputs": [
    {
     "data": {
      "text/plain": [
       "2"
      ]
     },
     "execution_count": 34,
     "metadata": {},
     "output_type": "execute_result"
    }
   ],
   "source": [
    "1+1"
   ]
  },
  {
   "cell_type": "markdown",
   "id": "9f796609",
   "metadata": {},
   "source": [
    "# 2. Object Handling"
   ]
  },
  {
   "cell_type": "code",
   "execution_count": 24,
   "id": "18c487bc",
   "metadata": {},
   "outputs": [],
   "source": [
    "a = 1\n",
    "b = 2\n",
    "c = 3"
   ]
  },
  {
   "cell_type": "code",
   "execution_count": 7,
   "id": "6a87d88c",
   "metadata": {},
   "outputs": [
    {
     "data": {
      "text/plain": [
       "6"
      ]
     },
     "execution_count": 7,
     "metadata": {},
     "output_type": "execute_result"
    }
   ],
   "source": [
    "a + b + c"
   ]
  },
  {
   "cell_type": "code",
   "execution_count": 8,
   "id": "184a55be",
   "metadata": {},
   "outputs": [
    {
     "data": {
      "text/plain": [
       "6"
      ]
     },
     "execution_count": 8,
     "metadata": {},
     "output_type": "execute_result"
    }
   ],
   "source": [
    "a * b * c"
   ]
  },
  {
   "cell_type": "code",
   "execution_count": 12,
   "id": "c1eb332b",
   "metadata": {},
   "outputs": [],
   "source": [
    "d = 1.5\n",
    "e = 2.8\n",
    "f = 3.14"
   ]
  },
  {
   "cell_type": "code",
   "execution_count": 13,
   "id": "c1cf0fcf",
   "metadata": {},
   "outputs": [
    {
     "data": {
      "text/plain": [
       "7.4399999999999995"
      ]
     },
     "execution_count": 13,
     "metadata": {},
     "output_type": "execute_result"
    }
   ],
   "source": [
    "d + e + f"
   ]
  },
  {
   "cell_type": "code",
   "execution_count": 14,
   "id": "52354364",
   "metadata": {},
   "outputs": [
    {
     "data": {
      "text/plain": [
       "13.187999999999999"
      ]
     },
     "execution_count": 14,
     "metadata": {},
     "output_type": "execute_result"
    }
   ],
   "source": [
    "d * e * f"
   ]
  },
  {
   "cell_type": "code",
   "execution_count": 35,
   "id": "92435c86",
   "metadata": {},
   "outputs": [],
   "source": [
    "g = \"My\"\n",
    "h = \" name is \"\n",
    "i = \"Bruno\""
   ]
  },
  {
   "cell_type": "code",
   "execution_count": 36,
   "id": "7617a19e",
   "metadata": {},
   "outputs": [],
   "source": [
    "sentence = g + h + i"
   ]
  },
  {
   "cell_type": "code",
   "execution_count": 37,
   "id": "d003e72c",
   "metadata": {},
   "outputs": [
    {
     "data": {
      "text/plain": [
       "'n'"
      ]
     },
     "execution_count": 37,
     "metadata": {},
     "output_type": "execute_result"
    }
   ],
   "source": [
    "sentence[3]"
   ]
  },
  {
   "cell_type": "markdown",
   "id": "fc99dfb1",
   "metadata": {},
   "source": [
    "### Python indexing starts at 0 not 1"
   ]
  },
  {
   "cell_type": "code",
   "execution_count": 38,
   "id": "4184c581",
   "metadata": {},
   "outputs": [
    {
     "data": {
      "text/plain": [
       "'M'"
      ]
     },
     "execution_count": 38,
     "metadata": {},
     "output_type": "execute_result"
    }
   ],
   "source": [
    "sentence[0]"
   ]
  },
  {
   "cell_type": "code",
   "execution_count": 20,
   "id": "ab64a39d",
   "metadata": {},
   "outputs": [
    {
     "data": {
      "text/plain": [
       "str"
      ]
     },
     "execution_count": 20,
     "metadata": {},
     "output_type": "execute_result"
    }
   ],
   "source": [
    "type(g)"
   ]
  },
  {
   "cell_type": "code",
   "execution_count": 27,
   "id": "a1d8df5e",
   "metadata": {},
   "outputs": [
    {
     "data": {
      "text/plain": [
       "int"
      ]
     },
     "execution_count": 27,
     "metadata": {},
     "output_type": "execute_result"
    }
   ],
   "source": [
    "type(a)"
   ]
  },
  {
   "cell_type": "code",
   "execution_count": 25,
   "id": "32a57b5e",
   "metadata": {},
   "outputs": [
    {
     "data": {
      "text/plain": [
       "int"
      ]
     },
     "execution_count": 25,
     "metadata": {},
     "output_type": "execute_result"
    }
   ],
   "source": [
    "type(c)"
   ]
  },
  {
   "cell_type": "code",
   "execution_count": 26,
   "id": "fa8b97dc",
   "metadata": {},
   "outputs": [
    {
     "data": {
      "text/plain": [
       "float"
      ]
     },
     "execution_count": 26,
     "metadata": {},
     "output_type": "execute_result"
    }
   ],
   "source": [
    "type(d)"
   ]
  },
  {
   "cell_type": "markdown",
   "id": "61f8d1c1",
   "metadata": {},
   "source": [
    "# 3. Working with libraries"
   ]
  },
  {
   "cell_type": "markdown",
   "id": "5a43bc00",
   "metadata": {},
   "source": [
    "Libraries: numpy + pandas"
   ]
  },
  {
   "cell_type": "code",
   "execution_count": 29,
   "id": "a100ca46",
   "metadata": {},
   "outputs": [],
   "source": [
    "import pandas as pd"
   ]
  },
  {
   "cell_type": "code",
   "execution_count": 30,
   "id": "06d54d3a",
   "metadata": {},
   "outputs": [],
   "source": [
    "import numpy as np"
   ]
  },
  {
   "cell_type": "code",
   "execution_count": 31,
   "id": "5a531e50",
   "metadata": {},
   "outputs": [],
   "source": [
    "import sys"
   ]
  },
  {
   "cell_type": "code",
   "execution_count": 32,
   "id": "939c0c67",
   "metadata": {},
   "outputs": [
    {
     "name": "stdout",
     "output_type": "stream",
     "text": [
      "\u001b[33mWARNING: The directory '/Users/brunocruz/Library/Caches/pip' or its parent directory is not owned or is not writable by the current user. The cache has been disabled. Check the permissions and owner of that directory. If executing pip with sudo, you should use sudo's -H flag.\u001b[0m\n",
      "Requirement already satisfied: quandl in /Users/brunocruz/opt/anaconda3/lib/python3.9/site-packages (3.7.0)\n",
      "Requirement already satisfied: numpy>=1.8 in /Users/brunocruz/opt/anaconda3/lib/python3.9/site-packages (from quandl) (1.20.3)\n",
      "Requirement already satisfied: inflection>=0.3.1 in /Users/brunocruz/opt/anaconda3/lib/python3.9/site-packages (from quandl) (0.5.1)\n",
      "Requirement already satisfied: python-dateutil in /Users/brunocruz/opt/anaconda3/lib/python3.9/site-packages (from quandl) (2.8.2)\n",
      "Requirement already satisfied: six in /Users/brunocruz/opt/anaconda3/lib/python3.9/site-packages (from quandl) (1.16.0)\n",
      "Requirement already satisfied: pandas>=0.14 in /Users/brunocruz/opt/anaconda3/lib/python3.9/site-packages (from quandl) (1.3.4)\n",
      "Requirement already satisfied: more-itertools in /Users/brunocruz/opt/anaconda3/lib/python3.9/site-packages (from quandl) (8.10.0)\n",
      "Requirement already satisfied: requests>=2.7.0 in /Users/brunocruz/opt/anaconda3/lib/python3.9/site-packages (from quandl) (2.26.0)\n",
      "Requirement already satisfied: pytz>=2017.3 in /Users/brunocruz/opt/anaconda3/lib/python3.9/site-packages (from pandas>=0.14->quandl) (2021.3)\n",
      "Requirement already satisfied: urllib3<1.27,>=1.21.1 in /Users/brunocruz/opt/anaconda3/lib/python3.9/site-packages (from requests>=2.7.0->quandl) (1.26.7)\n",
      "Requirement already satisfied: charset-normalizer~=2.0.0 in /Users/brunocruz/opt/anaconda3/lib/python3.9/site-packages (from requests>=2.7.0->quandl) (2.0.4)\n",
      "Requirement already satisfied: idna<4,>=2.5 in /Users/brunocruz/opt/anaconda3/lib/python3.9/site-packages (from requests>=2.7.0->quandl) (3.2)\n",
      "Requirement already satisfied: certifi>=2017.4.17 in /Users/brunocruz/opt/anaconda3/lib/python3.9/site-packages (from requests>=2.7.0->quandl) (2021.10.8)\n"
     ]
    }
   ],
   "source": [
    "!{sys.executable} -m pip install quandl"
   ]
  },
  {
   "cell_type": "code",
   "execution_count": 33,
   "id": "784c290b",
   "metadata": {},
   "outputs": [
    {
     "name": "stdout",
     "output_type": "stream",
     "text": [
      "\u001b[33mWARNING: The directory '/Users/brunocruz/Library/Caches/pip' or its parent directory is not owned or is not writable by the current user. The cache has been disabled. Check the permissions and owner of that directory. If executing pip with sudo, you should use sudo's -H flag.\u001b[0m\n",
      "Collecting pandas_datareader\n",
      "  Downloading pandas_datareader-0.10.0-py3-none-any.whl (109 kB)\n",
      "\u001b[K     |████████████████████████████████| 109 kB 11.2 MB/s eta 0:00:01\n",
      "\u001b[?25hRequirement already satisfied: pandas>=0.23 in /Users/brunocruz/opt/anaconda3/lib/python3.9/site-packages (from pandas_datareader) (1.3.4)\n",
      "Requirement already satisfied: lxml in /Users/brunocruz/opt/anaconda3/lib/python3.9/site-packages (from pandas_datareader) (4.6.3)\n",
      "Requirement already satisfied: requests>=2.19.0 in /Users/brunocruz/opt/anaconda3/lib/python3.9/site-packages (from pandas_datareader) (2.26.0)\n",
      "Requirement already satisfied: python-dateutil>=2.7.3 in /Users/brunocruz/opt/anaconda3/lib/python3.9/site-packages (from pandas>=0.23->pandas_datareader) (2.8.2)\n",
      "Requirement already satisfied: pytz>=2017.3 in /Users/brunocruz/opt/anaconda3/lib/python3.9/site-packages (from pandas>=0.23->pandas_datareader) (2021.3)\n",
      "Requirement already satisfied: numpy>=1.17.3 in /Users/brunocruz/opt/anaconda3/lib/python3.9/site-packages (from pandas>=0.23->pandas_datareader) (1.20.3)\n",
      "Requirement already satisfied: six>=1.5 in /Users/brunocruz/opt/anaconda3/lib/python3.9/site-packages (from python-dateutil>=2.7.3->pandas>=0.23->pandas_datareader) (1.16.0)\n",
      "Requirement already satisfied: charset-normalizer~=2.0.0 in /Users/brunocruz/opt/anaconda3/lib/python3.9/site-packages (from requests>=2.19.0->pandas_datareader) (2.0.4)\n",
      "Requirement already satisfied: certifi>=2017.4.17 in /Users/brunocruz/opt/anaconda3/lib/python3.9/site-packages (from requests>=2.19.0->pandas_datareader) (2021.10.8)\n",
      "Requirement already satisfied: idna<4,>=2.5 in /Users/brunocruz/opt/anaconda3/lib/python3.9/site-packages (from requests>=2.19.0->pandas_datareader) (3.2)\n",
      "Requirement already satisfied: urllib3<1.27,>=1.21.1 in /Users/brunocruz/opt/anaconda3/lib/python3.9/site-packages (from requests>=2.19.0->pandas_datareader) (1.26.7)\n",
      "Installing collected packages: pandas-datareader\n",
      "Successfully installed pandas-datareader-0.10.0\n"
     ]
    }
   ],
   "source": [
    "!{sys.executable} -m pip install pandas_datareader"
   ]
  },
  {
   "cell_type": "markdown",
   "id": "88e1ff4a",
   "metadata": {},
   "source": [
    "# 4. Exploring directories"
   ]
  },
  {
   "cell_type": "code",
   "execution_count": 40,
   "id": "ebfd743d",
   "metadata": {},
   "outputs": [],
   "source": [
    "import os"
   ]
  },
  {
   "cell_type": "code",
   "execution_count": null,
   "id": "48d5bb2d",
   "metadata": {},
   "outputs": [],
   "source": []
  }
 ],
 "metadata": {
  "kernelspec": {
   "display_name": "Python 3 (ipykernel)",
   "language": "python",
   "name": "python3"
  },
  "language_info": {
   "codemirror_mode": {
    "name": "ipython",
    "version": 3
   },
   "file_extension": ".py",
   "mimetype": "text/x-python",
   "name": "python",
   "nbconvert_exporter": "python",
   "pygments_lexer": "ipython3",
   "version": "3.9.7"
  }
 },
 "nbformat": 4,
 "nbformat_minor": 5
}
