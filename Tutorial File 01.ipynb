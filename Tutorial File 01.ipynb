{
 "cells": [
  {
   "cell_type": "markdown",
   "id": "9a6041a9",
   "metadata": {},
   "source": [
    "1. Introduction\n",
    "2. Object handling\n",
    "3. Working with libraries\n",
    "4. Exploring directories\n",
    "5. Opening and Handling Data"
   ]
  },
  {
   "cell_type": "markdown",
   "id": "742e506a",
   "metadata": {},
   "source": [
    "# 1. Introduction\n",
    "\n",
    "<b>This is our first code with Python</b>"
   ]
  },
  {
   "cell_type": "code",
   "execution_count": 34,
   "id": "d7dbda60",
   "metadata": {},
   "outputs": [
    {
     "data": {
      "text/plain": [
       "2"
      ]
     },
     "execution_count": 34,
     "metadata": {},
     "output_type": "execute_result"
    }
   ],
   "source": [
    "1+1"
   ]
  },
  {
   "cell_type": "markdown",
   "id": "292ecd04",
   "metadata": {},
   "source": [
    "# 2. Object Handling"
   ]
  },
  {
   "cell_type": "code",
   "execution_count": 24,
   "id": "557a5c93",
   "metadata": {},
   "outputs": [],
   "source": [
    "a = 1\n",
    "b = 2\n",
    "c = 3"
   ]
  },
  {
   "cell_type": "code",
   "execution_count": 7,
   "id": "597b9491",
   "metadata": {},
   "outputs": [
    {
     "data": {
      "text/plain": [
       "6"
      ]
     },
     "execution_count": 7,
     "metadata": {},
     "output_type": "execute_result"
    }
   ],
   "source": [
    "a + b + c"
   ]
  },
  {
   "cell_type": "code",
   "execution_count": 8,
   "id": "adf7e892",
   "metadata": {},
   "outputs": [
    {
     "data": {
      "text/plain": [
       "6"
      ]
     },
     "execution_count": 8,
     "metadata": {},
     "output_type": "execute_result"
    }
   ],
   "source": [
    "a * b * c"
   ]
  },
  {
   "cell_type": "code",
   "execution_count": 12,
   "id": "82e681d5",
   "metadata": {},
   "outputs": [],
   "source": [
    "d = 1.5\n",
    "e = 2.8\n",
    "f = 3.14"
   ]
  },
  {
   "cell_type": "code",
   "execution_count": 13,
   "id": "aa821d40",
   "metadata": {},
   "outputs": [
    {
     "data": {
      "text/plain": [
       "7.4399999999999995"
      ]
     },
     "execution_count": 13,
     "metadata": {},
     "output_type": "execute_result"
    }
   ],
   "source": [
    "d + e + f"
   ]
  },
  {
   "cell_type": "code",
   "execution_count": 14,
   "id": "a9bd4499",
   "metadata": {},
   "outputs": [
    {
     "data": {
      "text/plain": [
       "13.187999999999999"
      ]
     },
     "execution_count": 14,
     "metadata": {},
     "output_type": "execute_result"
    }
   ],
   "source": [
    "d * e * f"
   ]
  },
  {
   "cell_type": "code",
   "execution_count": 35,
   "id": "1925447e",
   "metadata": {},
   "outputs": [],
   "source": [
    "g = \"My\"\n",
    "h = \" name is \"\n",
    "i = \"Bruno\""
   ]
  },
  {
   "cell_type": "code",
   "execution_count": 36,
   "id": "25913707",
   "metadata": {},
   "outputs": [],
   "source": [
    "sentence = g + h + i"
   ]
  },
  {
   "cell_type": "code",
   "execution_count": 37,
   "id": "5a070f98",
   "metadata": {},
   "outputs": [
    {
     "data": {
      "text/plain": [
       "'n'"
      ]
     },
     "execution_count": 37,
     "metadata": {},
     "output_type": "execute_result"
    }
   ],
   "source": [
    "sentence[3]"
   ]
  },
  {
   "cell_type": "markdown",
   "id": "121d9c0b",
   "metadata": {},
   "source": [
    "### Python indexing starts at 0 not 1"
   ]
  },
  {
   "cell_type": "code",
   "execution_count": 38,
   "id": "975923af",
   "metadata": {},
   "outputs": [
    {
     "data": {
      "text/plain": [
       "'M'"
      ]
     },
     "execution_count": 38,
     "metadata": {},
     "output_type": "execute_result"
    }
   ],
   "source": [
    "sentence[0]"
   ]
  },
  {
   "cell_type": "code",
   "execution_count": 20,
   "id": "38ac2bb4",
   "metadata": {},
   "outputs": [
    {
     "data": {
      "text/plain": [
       "str"
      ]
     },
     "execution_count": 20,
     "metadata": {},
     "output_type": "execute_result"
    }
   ],
   "source": [
    "type(g)"
   ]
  },
  {
   "cell_type": "code",
   "execution_count": 27,
   "id": "aaa0d846",
   "metadata": {},
   "outputs": [
    {
     "data": {
      "text/plain": [
       "int"
      ]
     },
     "execution_count": 27,
     "metadata": {},
     "output_type": "execute_result"
    }
   ],
   "source": [
    "type(a)"
   ]
  },
  {
   "cell_type": "code",
   "execution_count": 25,
   "id": "6167f8f7",
   "metadata": {},
   "outputs": [
    {
     "data": {
      "text/plain": [
       "int"
      ]
     },
     "execution_count": 25,
     "metadata": {},
     "output_type": "execute_result"
    }
   ],
   "source": [
    "type(c)"
   ]
  },
  {
   "cell_type": "code",
   "execution_count": 26,
   "id": "09821986",
   "metadata": {},
   "outputs": [
    {
     "data": {
      "text/plain": [
       "float"
      ]
     },
     "execution_count": 26,
     "metadata": {},
     "output_type": "execute_result"
    }
   ],
   "source": [
    "type(d)"
   ]
  },
  {
   "cell_type": "markdown",
   "id": "e49f5350",
   "metadata": {},
   "source": [
    "# 3. Working with libraries"
   ]
  },
  {
   "cell_type": "markdown",
   "id": "26ada7da",
   "metadata": {},
   "source": [
    "Libraries: numpy + pandas"
   ]
  },
  {
   "cell_type": "code",
   "execution_count": 29,
   "id": "83fc1f61",
   "metadata": {},
   "outputs": [],
   "source": [
    "import pandas as pd"
   ]
  },
  {
   "cell_type": "code",
   "execution_count": 30,
   "id": "7038d293",
   "metadata": {},
   "outputs": [],
   "source": [
    "import numpy as np"
   ]
  },
  {
   "cell_type": "code",
   "execution_count": 31,
   "id": "3a81e1c4",
   "metadata": {},
   "outputs": [],
   "source": [
    "import sys"
   ]
  },
  {
   "cell_type": "code",
   "execution_count": 32,
   "id": "00ebf8c3",
   "metadata": {},
   "outputs": [
    {
     "name": "stdout",
     "output_type": "stream",
     "text": [
      "\u001b[33mWARNING: The directory '/Users/brunocruz/Library/Caches/pip' or its parent directory is not owned or is not writable by the current user. The cache has been disabled. Check the permissions and owner of that directory. If executing pip with sudo, you should use sudo's -H flag.\u001b[0m\n",
      "Requirement already satisfied: quandl in /Users/brunocruz/opt/anaconda3/lib/python3.9/site-packages (3.7.0)\n",
      "Requirement already satisfied: numpy>=1.8 in /Users/brunocruz/opt/anaconda3/lib/python3.9/site-packages (from quandl) (1.20.3)\n",
      "Requirement already satisfied: inflection>=0.3.1 in /Users/brunocruz/opt/anaconda3/lib/python3.9/site-packages (from quandl) (0.5.1)\n",
      "Requirement already satisfied: python-dateutil in /Users/brunocruz/opt/anaconda3/lib/python3.9/site-packages (from quandl) (2.8.2)\n",
      "Requirement already satisfied: six in /Users/brunocruz/opt/anaconda3/lib/python3.9/site-packages (from quandl) (1.16.0)\n",
      "Requirement already satisfied: pandas>=0.14 in /Users/brunocruz/opt/anaconda3/lib/python3.9/site-packages (from quandl) (1.3.4)\n",
      "Requirement already satisfied: more-itertools in /Users/brunocruz/opt/anaconda3/lib/python3.9/site-packages (from quandl) (8.10.0)\n",
      "Requirement already satisfied: requests>=2.7.0 in /Users/brunocruz/opt/anaconda3/lib/python3.9/site-packages (from quandl) (2.26.0)\n",
      "Requirement already satisfied: pytz>=2017.3 in /Users/brunocruz/opt/anaconda3/lib/python3.9/site-packages (from pandas>=0.14->quandl) (2021.3)\n",
      "Requirement already satisfied: urllib3<1.27,>=1.21.1 in /Users/brunocruz/opt/anaconda3/lib/python3.9/site-packages (from requests>=2.7.0->quandl) (1.26.7)\n",
      "Requirement already satisfied: charset-normalizer~=2.0.0 in /Users/brunocruz/opt/anaconda3/lib/python3.9/site-packages (from requests>=2.7.0->quandl) (2.0.4)\n",
      "Requirement already satisfied: idna<4,>=2.5 in /Users/brunocruz/opt/anaconda3/lib/python3.9/site-packages (from requests>=2.7.0->quandl) (3.2)\n",
      "Requirement already satisfied: certifi>=2017.4.17 in /Users/brunocruz/opt/anaconda3/lib/python3.9/site-packages (from requests>=2.7.0->quandl) (2021.10.8)\n"
     ]
    }
   ],
   "source": [
    "!{sys.executable} -m pip install quandl"
   ]
  },
  {
   "cell_type": "code",
   "execution_count": 33,
   "id": "e448768d",
   "metadata": {},
   "outputs": [
    {
     "name": "stdout",
     "output_type": "stream",
     "text": [
      "\u001b[33mWARNING: The directory '/Users/brunocruz/Library/Caches/pip' or its parent directory is not owned or is not writable by the current user. The cache has been disabled. Check the permissions and owner of that directory. If executing pip with sudo, you should use sudo's -H flag.\u001b[0m\n",
      "Collecting pandas_datareader\n",
      "  Downloading pandas_datareader-0.10.0-py3-none-any.whl (109 kB)\n",
      "\u001b[K     |████████████████████████████████| 109 kB 11.2 MB/s eta 0:00:01\n",
      "\u001b[?25hRequirement already satisfied: pandas>=0.23 in /Users/brunocruz/opt/anaconda3/lib/python3.9/site-packages (from pandas_datareader) (1.3.4)\n",
      "Requirement already satisfied: lxml in /Users/brunocruz/opt/anaconda3/lib/python3.9/site-packages (from pandas_datareader) (4.6.3)\n",
      "Requirement already satisfied: requests>=2.19.0 in /Users/brunocruz/opt/anaconda3/lib/python3.9/site-packages (from pandas_datareader) (2.26.0)\n",
      "Requirement already satisfied: python-dateutil>=2.7.3 in /Users/brunocruz/opt/anaconda3/lib/python3.9/site-packages (from pandas>=0.23->pandas_datareader) (2.8.2)\n",
      "Requirement already satisfied: pytz>=2017.3 in /Users/brunocruz/opt/anaconda3/lib/python3.9/site-packages (from pandas>=0.23->pandas_datareader) (2021.3)\n",
      "Requirement already satisfied: numpy>=1.17.3 in /Users/brunocruz/opt/anaconda3/lib/python3.9/site-packages (from pandas>=0.23->pandas_datareader) (1.20.3)\n",
      "Requirement already satisfied: six>=1.5 in /Users/brunocruz/opt/anaconda3/lib/python3.9/site-packages (from python-dateutil>=2.7.3->pandas>=0.23->pandas_datareader) (1.16.0)\n",
      "Requirement already satisfied: charset-normalizer~=2.0.0 in /Users/brunocruz/opt/anaconda3/lib/python3.9/site-packages (from requests>=2.19.0->pandas_datareader) (2.0.4)\n",
      "Requirement already satisfied: certifi>=2017.4.17 in /Users/brunocruz/opt/anaconda3/lib/python3.9/site-packages (from requests>=2.19.0->pandas_datareader) (2021.10.8)\n",
      "Requirement already satisfied: idna<4,>=2.5 in /Users/brunocruz/opt/anaconda3/lib/python3.9/site-packages (from requests>=2.19.0->pandas_datareader) (3.2)\n",
      "Requirement already satisfied: urllib3<1.27,>=1.21.1 in /Users/brunocruz/opt/anaconda3/lib/python3.9/site-packages (from requests>=2.19.0->pandas_datareader) (1.26.7)\n",
      "Installing collected packages: pandas-datareader\n",
      "Successfully installed pandas-datareader-0.10.0\n"
     ]
    }
   ],
   "source": [
    "!{sys.executable} -m pip install pandas_datareader"
   ]
  },
  {
   "cell_type": "markdown",
   "id": "6c7bab8d",
   "metadata": {},
   "source": [
    "# 4. Exploring directories"
   ]
  },
  {
   "cell_type": "code",
   "execution_count": 40,
   "id": "714c1963",
   "metadata": {},
   "outputs": [],
   "source": [
    "import os"
   ]
  },
  {
   "cell_type": "code",
   "execution_count": 43,
   "id": "5bffa13c",
   "metadata": {},
   "outputs": [
    {
     "data": {
      "text/plain": [
       "'/Users/brunocruz/code/brucruz/tutorial-jupyter'"
      ]
     },
     "execution_count": 43,
     "metadata": {},
     "output_type": "execute_result"
    }
   ],
   "source": [
    "os.getcwd()"
   ]
  },
  {
   "cell_type": "code",
   "execution_count": 44,
   "id": "bb4e7fe0",
   "metadata": {},
   "outputs": [],
   "source": [
    "os.chdir('/Users/brunocruz/code/brucruz/tutorial-jupyter/files')"
   ]
  },
  {
   "cell_type": "code",
   "execution_count": 45,
   "id": "da25a97a",
   "metadata": {},
   "outputs": [
    {
     "data": {
      "text/plain": [
       "'/Users/brunocruz/code/brucruz/tutorial-jupyter/files'"
      ]
     },
     "execution_count": 45,
     "metadata": {},
     "output_type": "execute_result"
    }
   ],
   "source": [
    "os.getcwd()"
   ]
  },
  {
   "cell_type": "markdown",
   "id": "92f1395b",
   "metadata": {},
   "source": [
    "# 5. Opening and Handling Data"
   ]
  },
  {
   "cell_type": "code",
   "execution_count": 49,
   "id": "ef4937d9",
   "metadata": {},
   "outputs": [],
   "source": [
    "abev = pd.read_csv('upload-template-statuschange.csv')"
   ]
  },
  {
   "cell_type": "code",
   "execution_count": 50,
   "id": "f53c9a81",
   "metadata": {},
   "outputs": [
    {
     "data": {
      "text/html": [
       "<div>\n",
       "<style scoped>\n",
       "    .dataframe tbody tr th:only-of-type {\n",
       "        vertical-align: middle;\n",
       "    }\n",
       "\n",
       "    .dataframe tbody tr th {\n",
       "        vertical-align: top;\n",
       "    }\n",
       "\n",
       "    .dataframe thead th {\n",
       "        text-align: right;\n",
       "    }\n",
       "</style>\n",
       "<table border=\"1\" class=\"dataframe\">\n",
       "  <thead>\n",
       "    <tr style=\"text-align: right;\">\n",
       "      <th></th>\n",
       "      <th>sku</th>\n",
       "      <th>status</th>\n",
       "    </tr>\n",
       "  </thead>\n",
       "  <tbody>\n",
       "    <tr>\n",
       "      <th>0</th>\n",
       "      <td>xxxxxxxxxxxx-OAG</td>\n",
       "      <td>Active</td>\n",
       "    </tr>\n",
       "    <tr>\n",
       "      <th>1</th>\n",
       "      <td>xxxxxxxxxxxx-OAG</td>\n",
       "      <td>Inactive</td>\n",
       "    </tr>\n",
       "    <tr>\n",
       "      <th>2</th>\n",
       "      <td>xxxxxxxxxxxx-OAG</td>\n",
       "      <td>Archived</td>\n",
       "    </tr>\n",
       "    <tr>\n",
       "      <th>3</th>\n",
       "      <td>xxxxxxxxxxxx-OAG</td>\n",
       "      <td>Delete</td>\n",
       "    </tr>\n",
       "  </tbody>\n",
       "</table>\n",
       "</div>"
      ],
      "text/plain": [
       "                sku    status\n",
       "0  xxxxxxxxxxxx-OAG    Active\n",
       "1  xxxxxxxxxxxx-OAG  Inactive\n",
       "2  xxxxxxxxxxxx-OAG  Archived\n",
       "3  xxxxxxxxxxxx-OAG    Delete"
      ]
     },
     "execution_count": 50,
     "metadata": {},
     "output_type": "execute_result"
    }
   ],
   "source": [
    "abev"
   ]
  },
  {
   "cell_type": "code",
   "execution_count": 53,
   "id": "acc33b1a",
   "metadata": {},
   "outputs": [
    {
     "data": {
      "text/html": [
       "<div>\n",
       "<style scoped>\n",
       "    .dataframe tbody tr th:only-of-type {\n",
       "        vertical-align: middle;\n",
       "    }\n",
       "\n",
       "    .dataframe tbody tr th {\n",
       "        vertical-align: top;\n",
       "    }\n",
       "\n",
       "    .dataframe thead th {\n",
       "        text-align: right;\n",
       "    }\n",
       "</style>\n",
       "<table border=\"1\" class=\"dataframe\">\n",
       "  <thead>\n",
       "    <tr style=\"text-align: right;\">\n",
       "      <th></th>\n",
       "      <th>sku</th>\n",
       "      <th>status</th>\n",
       "    </tr>\n",
       "  </thead>\n",
       "  <tbody>\n",
       "    <tr>\n",
       "      <th>0</th>\n",
       "      <td>xxxxxxxxxxxx-OAG</td>\n",
       "      <td>Active</td>\n",
       "    </tr>\n",
       "    <tr>\n",
       "      <th>1</th>\n",
       "      <td>xxxxxxxxxxxx-OAG</td>\n",
       "      <td>Inactive</td>\n",
       "    </tr>\n",
       "  </tbody>\n",
       "</table>\n",
       "</div>"
      ],
      "text/plain": [
       "                sku    status\n",
       "0  xxxxxxxxxxxx-OAG    Active\n",
       "1  xxxxxxxxxxxx-OAG  Inactive"
      ]
     },
     "execution_count": 53,
     "metadata": {},
     "output_type": "execute_result"
    }
   ],
   "source": [
    "abev.head(2)"
   ]
  },
  {
   "cell_type": "code",
   "execution_count": 54,
   "id": "bb12830b",
   "metadata": {},
   "outputs": [
    {
     "data": {
      "text/plain": [
       "sku       xxxxxxxxxxxx-OAG\n",
       "status            Inactive\n",
       "dtype: object"
      ]
     },
     "execution_count": 54,
     "metadata": {},
     "output_type": "execute_result"
    }
   ],
   "source": [
    "abev.max()"
   ]
  },
  {
   "cell_type": "code",
   "execution_count": 55,
   "id": "65a63f76",
   "metadata": {},
   "outputs": [
    {
     "data": {
      "text/plain": [
       "'Active'"
      ]
     },
     "execution_count": 55,
     "metadata": {},
     "output_type": "execute_result"
    }
   ],
   "source": [
    "abev['status'].min()"
   ]
  },
  {
   "cell_type": "code",
   "execution_count": 60,
   "id": "f357cc6d",
   "metadata": {},
   "outputs": [
    {
     "data": {
      "text/plain": [
       "'Delete'"
      ]
     },
     "execution_count": 60,
     "metadata": {},
     "output_type": "execute_result"
    }
   ],
   "source": [
    "abev.status[3]"
   ]
  },
  {
   "cell_type": "code",
   "execution_count": null,
   "id": "b131867a",
   "metadata": {},
   "outputs": [],
   "source": []
  }
 ],
 "metadata": {
  "kernelspec": {
   "display_name": "Python 3 (ipykernel)",
   "language": "python",
   "name": "python3"
  },
  "language_info": {
   "codemirror_mode": {
    "name": "ipython",
    "version": 3
   },
   "file_extension": ".py",
   "mimetype": "text/x-python",
   "name": "python",
   "nbconvert_exporter": "python",
   "pygments_lexer": "ipython3",
   "version": "3.9.7"
  }
 },
 "nbformat": 4,
 "nbformat_minor": 5
}
